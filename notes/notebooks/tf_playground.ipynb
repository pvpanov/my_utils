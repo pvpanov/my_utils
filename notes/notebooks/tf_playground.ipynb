{
 "cells": [
  {
   "cell_type": "code",
   "execution_count": 3,
   "outputs": [
    {
     "name": "stdout",
     "output_type": "stream",
     "text": [
      "The autoreload extension is already loaded. To reload it, use:\n",
      "  %reload_ext autoreload\n"
     ]
    }
   ],
   "source": [
    "%load_ext autoreload\n",
    "%autoreload 2"
   ],
   "metadata": {
    "collapsed": false
   }
  },
  {
   "cell_type": "code",
   "execution_count": 26,
   "metadata": {},
   "outputs": [],
   "source": [
    "from sklearn.datasets import make_regression\n",
    "import numpy as np\n",
    "from statsmodels import api as sm\n",
    "import tensorflow as tf\n",
    "from sklearn.linear_model import Ridge\n",
    "from sklearn.cross_decomposition import PLSRegression\n",
    "from matplotlib import pyplot as plt"
   ]
  },
  {
   "cell_type": "code",
   "execution_count": 188,
   "metadata": {
    "collapsed": false,
    "jupyter": {
     "outputs_hidden": false
    }
   },
   "outputs": [],
   "source": [
    "bias = np.random.randn(8)\n",
    "\n",
    "x, y, coef = make_regression(\n",
    "    n_samples=10000,\n",
    "    n_targets=8,\n",
    "    bias=0,\n",
    "    effective_rank=5,\n",
    "    noise=1.0,\n",
    "    coef=True,\n",
    ")\n",
    "y += bias"
   ]
  },
  {
   "cell_type": "code",
   "execution_count": 189,
   "metadata": {
    "collapsed": false,
    "jupyter": {
     "outputs_hidden": false
    }
   },
   "outputs": [],
   "source": [
    "f = sm.OLS(y[:, 0], sm.add_constant(x)).fit()"
   ]
  },
  {
   "cell_type": "code",
   "execution_count": null,
   "outputs": [],
   "source": [
    "ridge_penalty"
   ],
   "metadata": {
    "collapsed": false
   }
  },
  {
   "cell_type": "code",
   "execution_count": 340,
   "outputs": [
    {
     "data": {
      "text/plain": "Ridge(alpha=0.01)",
      "text/html": "<style>#sk-container-id-7 {color: black;}#sk-container-id-7 pre{padding: 0;}#sk-container-id-7 div.sk-toggleable {background-color: white;}#sk-container-id-7 label.sk-toggleable__label {cursor: pointer;display: block;width: 100%;margin-bottom: 0;padding: 0.3em;box-sizing: border-box;text-align: center;}#sk-container-id-7 label.sk-toggleable__label-arrow:before {content: \"▸\";float: left;margin-right: 0.25em;color: #696969;}#sk-container-id-7 label.sk-toggleable__label-arrow:hover:before {color: black;}#sk-container-id-7 div.sk-estimator:hover label.sk-toggleable__label-arrow:before {color: black;}#sk-container-id-7 div.sk-toggleable__content {max-height: 0;max-width: 0;overflow: hidden;text-align: left;background-color: #f0f8ff;}#sk-container-id-7 div.sk-toggleable__content pre {margin: 0.2em;color: black;border-radius: 0.25em;background-color: #f0f8ff;}#sk-container-id-7 input.sk-toggleable__control:checked~div.sk-toggleable__content {max-height: 200px;max-width: 100%;overflow: auto;}#sk-container-id-7 input.sk-toggleable__control:checked~label.sk-toggleable__label-arrow:before {content: \"▾\";}#sk-container-id-7 div.sk-estimator input.sk-toggleable__control:checked~label.sk-toggleable__label {background-color: #d4ebff;}#sk-container-id-7 div.sk-label input.sk-toggleable__control:checked~label.sk-toggleable__label {background-color: #d4ebff;}#sk-container-id-7 input.sk-hidden--visually {border: 0;clip: rect(1px 1px 1px 1px);clip: rect(1px, 1px, 1px, 1px);height: 1px;margin: -1px;overflow: hidden;padding: 0;position: absolute;width: 1px;}#sk-container-id-7 div.sk-estimator {font-family: monospace;background-color: #f0f8ff;border: 1px dotted black;border-radius: 0.25em;box-sizing: border-box;margin-bottom: 0.5em;}#sk-container-id-7 div.sk-estimator:hover {background-color: #d4ebff;}#sk-container-id-7 div.sk-parallel-item::after {content: \"\";width: 100%;border-bottom: 1px solid gray;flex-grow: 1;}#sk-container-id-7 div.sk-label:hover label.sk-toggleable__label {background-color: #d4ebff;}#sk-container-id-7 div.sk-serial::before {content: \"\";position: absolute;border-left: 1px solid gray;box-sizing: border-box;top: 0;bottom: 0;left: 50%;z-index: 0;}#sk-container-id-7 div.sk-serial {display: flex;flex-direction: column;align-items: center;background-color: white;padding-right: 0.2em;padding-left: 0.2em;position: relative;}#sk-container-id-7 div.sk-item {position: relative;z-index: 1;}#sk-container-id-7 div.sk-parallel {display: flex;align-items: stretch;justify-content: center;background-color: white;position: relative;}#sk-container-id-7 div.sk-item::before, #sk-container-id-7 div.sk-parallel-item::before {content: \"\";position: absolute;border-left: 1px solid gray;box-sizing: border-box;top: 0;bottom: 0;left: 50%;z-index: -1;}#sk-container-id-7 div.sk-parallel-item {display: flex;flex-direction: column;z-index: 1;position: relative;background-color: white;}#sk-container-id-7 div.sk-parallel-item:first-child::after {align-self: flex-end;width: 50%;}#sk-container-id-7 div.sk-parallel-item:last-child::after {align-self: flex-start;width: 50%;}#sk-container-id-7 div.sk-parallel-item:only-child::after {width: 0;}#sk-container-id-7 div.sk-dashed-wrapped {border: 1px dashed gray;margin: 0 0.4em 0.5em 0.4em;box-sizing: border-box;padding-bottom: 0.4em;background-color: white;}#sk-container-id-7 div.sk-label label {font-family: monospace;font-weight: bold;display: inline-block;line-height: 1.2em;}#sk-container-id-7 div.sk-label-container {text-align: center;}#sk-container-id-7 div.sk-container {/* jupyter's `normalize.less` sets `[hidden] { display: none; }` but bootstrap.min.css set `[hidden] { display: none !important; }` so we also need the `!important` here to be able to override the default hidden behavior on the sphinx rendered scikit-learn.org. See: https://github.com/scikit-learn/scikit-learn/issues/21755 */display: inline-block !important;position: relative;}#sk-container-id-7 div.sk-text-repr-fallback {display: none;}</style><div id=\"sk-container-id-7\" class=\"sk-top-container\"><div class=\"sk-text-repr-fallback\"><pre>Ridge(alpha=0.01)</pre><b>In a Jupyter environment, please rerun this cell to show the HTML representation or trust the notebook. <br />On GitHub, the HTML representation is unable to render, please try loading this page with nbviewer.org.</b></div><div class=\"sk-container\" hidden><div class=\"sk-item\"><div class=\"sk-estimator sk-toggleable\"><input class=\"sk-toggleable__control sk-hidden--visually\" id=\"sk-estimator-id-7\" type=\"checkbox\" checked><label for=\"sk-estimator-id-7\" class=\"sk-toggleable__label sk-toggleable__label-arrow\">Ridge</label><div class=\"sk-toggleable__content\"><pre>Ridge(alpha=0.01)</pre></div></div></div></div></div>"
     },
     "execution_count": 340,
     "metadata": {},
     "output_type": "execute_result"
    }
   ],
   "source": [
    "n_pls = 3\n",
    "pls = PLSRegression(n_components=n_pls)\n",
    "pls.fit(x, y)\n",
    "\n",
    "na, nb, nc = 50, 30, 20\n",
    "ridge_penalty = 0.01\n",
    "ridge_model = Ridge(alpha=ridge_penalty)\n",
    "ridge_model.fit(x, y)"
   ],
   "metadata": {
    "collapsed": false
   }
  },
  {
   "cell_type": "code",
   "execution_count": 191,
   "outputs": [],
   "source": [
    "la, lb, lc = 7, 5, 4  # number of cells"
   ],
   "metadata": {
    "collapsed": false
   }
  },
  {
   "cell_type": "code",
   "execution_count": 192,
   "outputs": [],
   "source": [
    "pls_inits = []\n",
    "for ifrom, ito, l in [(0, na, la), (na, na + nb, lb), (na + nb, na + nb + nc, lc)]:\n",
    "    model = PLSRegression(n_components=l)\n",
    "    model.fit(x[:, ifrom:ito], y)\n",
    "    pls_inits.append(model)"
   ],
   "metadata": {
    "collapsed": false
   }
  },
  {
   "cell_type": "code",
   "execution_count": 208,
   "outputs": [],
   "source": [
    "from sklearn.model_selection import train_test_split\n",
    "\n",
    "x_train, x_val, y_train, y_val = train_test_split(x, y, test_size=0.1, random_state=42)"
   ],
   "metadata": {
    "collapsed": false
   }
  },
  {
   "cell_type": "code",
   "execution_count": 347,
   "outputs": [],
   "source": [
    "ridge_penalty = 1e-8"
   ],
   "metadata": {
    "collapsed": false
   }
  },
  {
   "cell_type": "code",
   "execution_count": 381,
   "outputs": [
    {
     "name": "stdout",
     "output_type": "stream",
     "text": [
      "Epoch 1/100\n",
      "90/90 [==============================] - 1s 3ms/step - loss: 1.2293 - val_loss: 1.0883\n",
      "Epoch 2/100\n",
      "90/90 [==============================] - 0s 853us/step - loss: 1.0520 - val_loss: 1.0326\n",
      "Epoch 3/100\n",
      "90/90 [==============================] - 0s 799us/step - loss: 1.0258 - val_loss: 1.0136\n",
      "Epoch 4/100\n",
      "90/90 [==============================] - 0s 832us/step - loss: 1.0179 - val_loss: 1.0144\n",
      "Epoch 5/100\n",
      "90/90 [==============================] - 0s 808us/step - loss: 1.0124 - val_loss: 1.0297\n",
      "Epoch 6/100\n",
      "90/90 [==============================] - 0s 800us/step - loss: 1.0091 - val_loss: 1.0114\n",
      "Epoch 7/100\n",
      "90/90 [==============================] - 0s 792us/step - loss: 1.0095 - val_loss: 1.0049\n",
      "Epoch 8/100\n",
      "90/90 [==============================] - 0s 802us/step - loss: 1.0051 - val_loss: 1.0052\n",
      "Epoch 9/100\n",
      "90/90 [==============================] - 0s 752us/step - loss: 1.0067 - val_loss: 1.0215\n",
      "Epoch 10/100\n",
      "90/90 [==============================] - 0s 771us/step - loss: 1.0013 - val_loss: 1.0032\n",
      "Epoch 11/100\n",
      "90/90 [==============================] - 0s 776us/step - loss: 1.0027 - val_loss: 1.0063\n",
      "Epoch 12/100\n",
      "90/90 [==============================] - 0s 750us/step - loss: 0.9980 - val_loss: 1.0018\n",
      "Epoch 13/100\n",
      "90/90 [==============================] - 0s 788us/step - loss: 1.0014 - val_loss: 1.0011\n",
      "Epoch 14/100\n",
      "90/90 [==============================] - 0s 795us/step - loss: 1.0006 - val_loss: 1.0042\n",
      "Epoch 15/100\n",
      "90/90 [==============================] - 0s 817us/step - loss: 1.0007 - val_loss: 1.0108\n",
      "Epoch 16/100\n",
      "90/90 [==============================] - 0s 779us/step - loss: 0.9972 - val_loss: 1.0084\n",
      "Epoch 17/100\n",
      "90/90 [==============================] - 0s 775us/step - loss: 0.9977 - val_loss: 1.0175\n",
      "Epoch 18/100\n",
      "90/90 [==============================] - 0s 765us/step - loss: 0.9989 - val_loss: 1.0038\n"
     ]
    }
   ],
   "source": [
    "inputs = tf.keras.layers.Input(shape=(x.shape[1],))\n",
    "xa, xb, xc = tf.split(inputs, num_or_size_splits=(na, nb, nc), axis=1)\n",
    "npls_last = 4\n",
    "initializer_noise = 1e-2\n",
    "\n",
    "pls_layers = tf.keras.layers.concatenate(\n",
    "    [\n",
    "        tf.keras.layers.Dense(\n",
    "            _l,\n",
    "            kernel_regularizer=tf.keras.regularizers.l2(ridge_penalty),\n",
    "            kernel_initializer=tf.constant_initializer(p.x_rotations_),\n",
    "            bias_initializer=tf.constant_initializer(np.zeros(_l)),\n",
    "            activation=\"gelu\",\n",
    "        )(_x)\n",
    "        for (p, _x, _l, _n) in zip(pls_inits, (xa, xb, xc), (la, lb, lc), (na, nb, nc))\n",
    "    ]\n",
    ")\n",
    "\n",
    "hidden = tf.keras.layers.Dense(\n",
    "    npls_last,\n",
    "    kernel_regularizer=tf.keras.regularizers.l2(ridge_penalty),\n",
    "    activation=\"gelu\",\n",
    ")(pls_layers)\n",
    "\n",
    "output = tf.keras.layers.Dense(\n",
    "    y.shape[1],\n",
    "    kernel_regularizer=tf.keras.regularizers.l2(ridge_penalty),\n",
    "    kernel_initializer=tf.constant_initializer(\n",
    "        np.vstack(\n",
    "            [\n",
    "                ridge_model.coef_.T,\n",
    "                initializer_noise * np.random.randn(npls_last, y.shape[1]),\n",
    "            ]\n",
    "        )\n",
    "    ),\n",
    "    bias_initializer=tf.constant_initializer(ridge_model.intercept_),\n",
    ")(tf.keras.layers.concatenate([inputs, hidden]))\n",
    "\n",
    "model = tf.keras.Model(inputs=inputs, outputs=output)\n",
    "optimizer = tf.keras.optimizers.Adam(learning_rate=0.1)\n",
    "model.compile(optimizer=optimizer, loss=\"mse\", jit_compile=True)\n",
    "early_stopping = tf.keras.callbacks.EarlyStopping(monitor=\"val_loss\", patience=5)\n",
    "history = model.fit(\n",
    "    x_train,\n",
    "    y_train,\n",
    "    epochs=100,\n",
    "    batch_size=100,\n",
    "    verbose=1,\n",
    "    validation_data=(x_val, y_val),\n",
    "    callbacks=[early_stopping],\n",
    ")"
   ],
   "metadata": {
    "collapsed": false
   }
  },
  {
   "cell_type": "code",
   "execution_count": null,
   "outputs": [],
   "source": [],
   "metadata": {
    "collapsed": false
   }
  },
  {
   "cell_type": "code",
   "execution_count": 366,
   "outputs": [
    {
     "name": "stdout",
     "output_type": "stream",
     "text": [
      "Epoch 1/50\n",
      "90/90 [==============================] - 0s 1ms/step - loss: 1.3263 - val_loss: 1.1255\n",
      "Epoch 2/50\n",
      "90/90 [==============================] - 0s 840us/step - loss: 1.1057 - val_loss: 1.0777\n",
      "Epoch 3/50\n",
      "90/90 [==============================] - 0s 650us/step - loss: 1.0720 - val_loss: 1.0574\n",
      "Epoch 4/50\n",
      "90/90 [==============================] - 0s 673us/step - loss: 1.0515 - val_loss: 1.0441\n",
      "Epoch 5/50\n",
      "90/90 [==============================] - 0s 665us/step - loss: 1.0389 - val_loss: 1.0301\n",
      "Epoch 6/50\n",
      "90/90 [==============================] - 0s 657us/step - loss: 1.0294 - val_loss: 1.0239\n",
      "Epoch 7/50\n",
      "90/90 [==============================] - 0s 646us/step - loss: 1.0220 - val_loss: 1.0201\n",
      "Epoch 8/50\n",
      "90/90 [==============================] - 0s 663us/step - loss: 1.0178 - val_loss: 1.0139\n",
      "Epoch 9/50\n",
      "90/90 [==============================] - 0s 663us/step - loss: 1.0126 - val_loss: 1.0108\n",
      "Epoch 10/50\n",
      "90/90 [==============================] - 0s 643us/step - loss: 1.0095 - val_loss: 1.0090\n",
      "Epoch 11/50\n",
      "90/90 [==============================] - 0s 651us/step - loss: 1.0070 - val_loss: 1.0101\n",
      "Epoch 12/50\n",
      "90/90 [==============================] - 0s 633us/step - loss: 1.0060 - val_loss: 1.0114\n",
      "Epoch 13/50\n",
      "90/90 [==============================] - 0s 673us/step - loss: 1.0038 - val_loss: 1.0078\n",
      "Epoch 14/50\n",
      "90/90 [==============================] - 0s 663us/step - loss: 1.0031 - val_loss: 1.0047\n",
      "Epoch 15/50\n",
      "90/90 [==============================] - 0s 627us/step - loss: 1.0006 - val_loss: 1.0082\n",
      "Epoch 16/50\n",
      "90/90 [==============================] - 0s 654us/step - loss: 1.0010 - val_loss: 1.0066\n",
      "Epoch 17/50\n",
      "90/90 [==============================] - 0s 663us/step - loss: 0.9987 - val_loss: 1.0030\n",
      "Epoch 18/50\n",
      "90/90 [==============================] - 0s 666us/step - loss: 0.9976 - val_loss: 1.0017\n",
      "Epoch 19/50\n",
      "90/90 [==============================] - 0s 647us/step - loss: 0.9972 - val_loss: 1.0026\n",
      "Epoch 20/50\n",
      "90/90 [==============================] - 0s 655us/step - loss: 0.9964 - val_loss: 1.0013\n",
      "Epoch 21/50\n",
      "90/90 [==============================] - 0s 659us/step - loss: 0.9961 - val_loss: 1.0012\n",
      "Epoch 22/50\n",
      "90/90 [==============================] - 0s 663us/step - loss: 0.9962 - val_loss: 1.0074\n",
      "Epoch 23/50\n",
      "90/90 [==============================] - 0s 797us/step - loss: 0.9946 - val_loss: 1.0004\n",
      "Epoch 24/50\n",
      "90/90 [==============================] - 0s 692us/step - loss: 0.9937 - val_loss: 1.0060\n",
      "Epoch 25/50\n",
      "90/90 [==============================] - 0s 637us/step - loss: 0.9942 - val_loss: 0.9987\n",
      "Epoch 26/50\n",
      "90/90 [==============================] - 0s 627us/step - loss: 0.9952 - val_loss: 0.9987\n",
      "Epoch 27/50\n",
      "90/90 [==============================] - 0s 625us/step - loss: 0.9938 - val_loss: 1.0034\n",
      "Epoch 28/50\n",
      "90/90 [==============================] - 0s 633us/step - loss: 0.9935 - val_loss: 0.9977\n",
      "Epoch 29/50\n",
      "90/90 [==============================] - 0s 628us/step - loss: 0.9927 - val_loss: 1.0005\n",
      "Epoch 30/50\n",
      "90/90 [==============================] - 0s 639us/step - loss: 0.9927 - val_loss: 1.0006\n",
      "Epoch 31/50\n",
      "90/90 [==============================] - 0s 653us/step - loss: 0.9923 - val_loss: 1.0028\n",
      "Epoch 32/50\n",
      "90/90 [==============================] - 0s 616us/step - loss: 0.9917 - val_loss: 0.9976\n",
      "Epoch 33/50\n",
      "90/90 [==============================] - 0s 629us/step - loss: 0.9917 - val_loss: 1.0018\n",
      "Epoch 34/50\n",
      "90/90 [==============================] - 0s 628us/step - loss: 0.9921 - val_loss: 1.0059\n",
      "Epoch 35/50\n",
      "90/90 [==============================] - 0s 633us/step - loss: 0.9918 - val_loss: 0.9993\n",
      "Epoch 36/50\n",
      "90/90 [==============================] - 0s 632us/step - loss: 0.9916 - val_loss: 0.9997\n",
      "Epoch 37/50\n",
      "90/90 [==============================] - 0s 632us/step - loss: 0.9906 - val_loss: 0.9994\n",
      "Epoch 38/50\n",
      "90/90 [==============================] - 0s 670us/step - loss: 0.9904 - val_loss: 0.9978\n",
      "Epoch 39/50\n",
      "90/90 [==============================] - 0s 630us/step - loss: 0.9916 - val_loss: 0.9983\n",
      "Epoch 40/50\n",
      "90/90 [==============================] - 0s 656us/step - loss: 0.9909 - val_loss: 1.0021\n",
      "Epoch 41/50\n",
      "90/90 [==============================] - 0s 629us/step - loss: 0.9898 - val_loss: 0.9971\n",
      "Epoch 42/50\n",
      "90/90 [==============================] - 0s 630us/step - loss: 0.9910 - val_loss: 0.9992\n",
      "Epoch 43/50\n",
      "90/90 [==============================] - 0s 613us/step - loss: 0.9903 - val_loss: 0.9987\n",
      "Epoch 44/50\n",
      "90/90 [==============================] - 0s 615us/step - loss: 0.9895 - val_loss: 0.9991\n",
      "Epoch 45/50\n",
      "90/90 [==============================] - 0s 634us/step - loss: 0.9911 - val_loss: 0.9983\n",
      "Epoch 46/50\n",
      "90/90 [==============================] - 0s 649us/step - loss: 0.9892 - val_loss: 0.9963\n",
      "Epoch 47/50\n",
      "90/90 [==============================] - 0s 626us/step - loss: 0.9896 - val_loss: 0.9988\n",
      "Epoch 48/50\n",
      "90/90 [==============================] - 0s 621us/step - loss: 0.9892 - val_loss: 0.9983\n",
      "Epoch 49/50\n",
      "90/90 [==============================] - 0s 634us/step - loss: 0.9906 - val_loss: 1.0015\n",
      "Epoch 50/50\n",
      "90/90 [==============================] - 0s 649us/step - loss: 0.9900 - val_loss: 1.0022\n"
     ]
    }
   ],
   "source": [
    "output = tf.keras.layers.Dense(y.shape[1])(inputs)\n",
    "\n",
    "model = tf.keras.Model(inputs=inputs, outputs=output)\n",
    "optimizer = tf.keras.optimizers.Adam(learning_rate=0.1)\n",
    "model.compile(optimizer=optimizer, loss=\"mse\", jit_compile=True)\n",
    "\n",
    "history = model.fit(\n",
    "    x_train,\n",
    "    y_train,\n",
    "    epochs=50,\n",
    "    batch_size=100,\n",
    "    verbose=1,\n",
    "    validation_data=(x_val, y_val),\n",
    ")"
   ],
   "metadata": {
    "collapsed": false
   }
  },
  {
   "cell_type": "code",
   "execution_count": 370,
   "outputs": [
    {
     "data": {
      "text/plain": "266.84459434577644"
     },
     "execution_count": 370,
     "metadata": {},
     "output_type": "execute_result"
    }
   ],
   "source": [
    "np.linalg.norm(ridge_model.predict(x_train) - y_train)"
   ],
   "metadata": {
    "collapsed": false
   }
  },
  {
   "cell_type": "code",
   "execution_count": 369,
   "outputs": [
    {
     "name": "stdout",
     "output_type": "stream",
     "text": [
      "282/282 [==============================] - 0s 375us/step\n"
     ]
    },
    {
     "data": {
      "text/plain": "266.7639413931396"
     },
     "execution_count": 369,
     "metadata": {},
     "output_type": "execute_result"
    }
   ],
   "source": [
    "np.linalg.norm(model.predict(x_train) - y_train)"
   ],
   "metadata": {
    "collapsed": false
   }
  },
  {
   "cell_type": "code",
   "execution_count": 371,
   "outputs": [
    {
     "data": {
      "text/plain": "281.17569441266266"
     },
     "execution_count": 371,
     "metadata": {},
     "output_type": "execute_result"
    }
   ],
   "source": [
    "np.linalg.norm(ridge_model.predict(x) - y)"
   ],
   "metadata": {
    "collapsed": false
   }
  },
  {
   "cell_type": "code",
   "execution_count": 372,
   "outputs": [
    {
     "name": "stdout",
     "output_type": "stream",
     "text": [
      "313/313 [==============================] - 0s 406us/step\n"
     ]
    },
    {
     "data": {
      "text/plain": "281.39078699894384"
     },
     "execution_count": 372,
     "metadata": {},
     "output_type": "execute_result"
    }
   ],
   "source": [
    "np.linalg.norm(model.predict(x) - y)"
   ],
   "metadata": {
    "collapsed": false
   }
  },
  {
   "cell_type": "code",
   "execution_count": 359,
   "outputs": [
    {
     "name": "stdout",
     "output_type": "stream",
     "text": [
      "313/313 [==============================] - 0s 381us/step\n"
     ]
    },
    {
     "data": {
      "text/plain": "<matplotlib.collections.PathCollection at 0x1b42aa41df0>"
     },
     "execution_count": 359,
     "metadata": {},
     "output_type": "execute_result"
    },
    {
     "data": {
      "text/plain": "<Figure size 640x480 with 1 Axes>",
      "image/png": "[encoded data removed]"
     },
     "metadata": {},
     "output_type": "display_data"
    }
   ],
   "source": [
    "plt.scatter(model.predict(x), ridge_model.predict(x))"
   ],
   "metadata": {
    "collapsed": false
   }
  },
  {
   "cell_type": "code",
   "execution_count": 310,
   "outputs": [
    {
     "data": {
      "text/plain": "280.2963704371356"
     },
     "execution_count": 310,
     "metadata": {},
     "output_type": "execute_result"
    }
   ],
   "source": [
    "np.linalg.norm(ridge_model.predict(x) - y)"
   ],
   "metadata": {
    "collapsed": false
   }
  },
  {
   "cell_type": "code",
   "execution_count": 301,
   "outputs": [
    {
     "data": {
      "text/plain": "<tf.Variable 'UnreadVariable' shape=() dtype=float32, numpy=10000.0>"
     },
     "execution_count": 301,
     "metadata": {},
     "output_type": "execute_result"
    }
   ],
   "source": [
    "m = tf.keras.metrics.MeanSquaredError()\n",
    "m.update_state(y_true=y, y_pred=ridge_model.predict(x))"
   ],
   "metadata": {
    "collapsed": false
   }
  },
  {
   "cell_type": "code",
   "execution_count": 302,
   "outputs": [
    {
     "data": {
      "text/plain": "0.9820756"
     },
     "execution_count": 302,
     "metadata": {},
     "output_type": "execute_result"
    }
   ],
   "source": [
    "m.result().numpy()"
   ],
   "metadata": {
    "collapsed": false
   }
  },
  {
   "cell_type": "code",
   "execution_count": 300,
   "outputs": [
    {
     "data": {
      "text/plain": "1.0132341"
     },
     "execution_count": 300,
     "metadata": {},
     "output_type": "execute_result"
    }
   ],
   "source": [
    "m.result().numpy()"
   ],
   "metadata": {
    "collapsed": false
   }
  },
  {
   "cell_type": "code",
   "execution_count": null,
   "outputs": [],
   "source": [
    "plt.scatter()"
   ],
   "metadata": {
    "collapsed": false
   }
  },
  {
   "cell_type": "code",
   "execution_count": 226,
   "outputs": [],
   "source": [
    "model = tf.keras.Model(inputs=inputs, outputs=output)"
   ],
   "metadata": {
    "collapsed": false
   }
  },
  {
   "cell_type": "code",
   "execution_count": 283,
   "outputs": [
    {
     "data": {
      "text/plain": "[<matplotlib.lines.Line2D at 0x1b407313c70>]"
     },
     "execution_count": 283,
     "metadata": {},
     "output_type": "execute_result"
    },
    {
     "data": {
      "text/plain": "<Figure size 640x480 with 1 Axes>",
      "image/png": "[encoded data removed]"
     },
     "metadata": {},
     "output_type": "display_data"
    }
   ],
   "source": [
    "plt.plot(history.history[\"val_loss\"])"
   ],
   "metadata": {
    "collapsed": false
   }
  },
  {
   "cell_type": "code",
   "execution_count": 261,
   "outputs": [
    {
     "data": {
      "text/plain": "98.56729088142356"
     },
     "execution_count": 261,
     "metadata": {},
     "output_type": "execute_result"
    }
   ],
   "source": [
    "np.linalg.norm(ridge_model.predict(x)[:, 0] - y[:, 0])"
   ],
   "metadata": {
    "collapsed": false
   }
  },
  {
   "cell_type": "code",
   "execution_count": 262,
   "outputs": [
    {
     "name": "stdout",
     "output_type": "stream",
     "text": [
      "313/313 [==============================] - 0s 396us/step\n"
     ]
    },
    {
     "data": {
      "text/plain": "98.6401212321239"
     },
     "execution_count": 262,
     "metadata": {},
     "output_type": "execute_result"
    }
   ],
   "source": [
    "np.linalg.norm(model.predict(x)[:, 0] - y[:, 0])"
   ],
   "metadata": {
    "collapsed": false
   }
  },
  {
   "cell_type": "code",
   "execution_count": 257,
   "outputs": [
    {
     "name": "stdout",
     "output_type": "stream",
     "text": [
      "313/313 [==============================] - 0s 389us/step\n"
     ]
    },
    {
     "data": {
      "text/plain": "<matplotlib.collections.PathCollection at 0x1b40e74c400>"
     },
     "execution_count": 257,
     "metadata": {},
     "output_type": "execute_result"
    },
    {
     "data": {
      "text/plain": "<Figure size 640x480 with 1 Axes>",
      "image/png": "[encoded data removed]"
     },
     "metadata": {},
     "output_type": "display_data"
    }
   ],
   "source": [
    "plt.scatter(ridge_model.predict(x)[:, 0], model.predict(x)[:, 0])\n",
    "\n",
    "# plt.scatter(f.fittedvalues, y[:, 0])"
   ],
   "metadata": {
    "collapsed": false
   }
  },
  {
   "cell_type": "code",
   "execution_count": 37,
   "metadata": {},
   "outputs": [
    {
     "name": "stdout",
     "output_type": "stream",
     "text": [
      "Epoch 1/100\n",
      "32/32 [==============================] - 0s 3ms/step - loss: 4.3725\n",
      "Epoch 2/100\n",
      "32/32 [==============================] - 0s 613us/step - loss: 4.3342\n",
      "Epoch 3/100\n",
      "32/32 [==============================] - 0s 613us/step - loss: 4.2963\n",
      "Epoch 4/100\n",
      "32/32 [==============================] - 0s 581us/step - loss: 4.2566\n",
      "Epoch 5/100\n",
      "32/32 [==============================] - 0s 613us/step - loss: 4.2123\n",
      "Epoch 6/100\n",
      "32/32 [==============================] - 0s 710us/step - loss: 4.1648\n",
      "Epoch 7/100\n",
      "32/32 [==============================] - 0s 645us/step - loss: 4.1134\n",
      "Epoch 8/100\n",
      "32/32 [==============================] - 0s 613us/step - loss: 4.0587\n",
      "Epoch 9/100\n",
      "32/32 [==============================] - 0s 613us/step - loss: 4.0005\n",
      "Epoch 10/100\n",
      "32/32 [==============================] - 0s 613us/step - loss: 3.9380\n",
      "Epoch 11/100\n",
      "32/32 [==============================] - 0s 645us/step - loss: 3.8729\n",
      "Epoch 12/100\n",
      "32/32 [==============================] - 0s 581us/step - loss: 3.8070\n",
      "Epoch 13/100\n",
      "32/32 [==============================] - 0s 613us/step - loss: 3.7400\n",
      "Epoch 14/100\n",
      "32/32 [==============================] - 0s 599us/step - loss: 3.6725\n",
      "Epoch 15/100\n",
      "32/32 [==============================] - 0s 613us/step - loss: 3.6099\n",
      "Epoch 16/100\n",
      "32/32 [==============================] - 0s 581us/step - loss: 3.5468\n",
      "Epoch 17/100\n",
      "32/32 [==============================] - 0s 645us/step - loss: 3.4856\n",
      "Epoch 18/100\n",
      "32/32 [==============================] - 0s 599us/step - loss: 3.4284\n",
      "Epoch 19/100\n",
      "32/32 [==============================] - 0s 581us/step - loss: 3.3730\n",
      "Epoch 20/100\n",
      "32/32 [==============================] - 0s 613us/step - loss: 3.3193\n",
      "Epoch 21/100\n",
      "32/32 [==============================] - 0s 581us/step - loss: 3.2678\n",
      "Epoch 22/100\n",
      "32/32 [==============================] - 0s 613us/step - loss: 3.2182\n",
      "Epoch 23/100\n",
      "32/32 [==============================] - 0s 613us/step - loss: 3.1689\n",
      "Epoch 24/100\n",
      "32/32 [==============================] - 0s 657us/step - loss: 3.1172\n",
      "Epoch 25/100\n",
      "32/32 [==============================] - 0s 645us/step - loss: 3.0638\n",
      "Epoch 26/100\n",
      "32/32 [==============================] - 0s 613us/step - loss: 3.0123\n",
      "Epoch 27/100\n",
      "32/32 [==============================] - 0s 613us/step - loss: 2.9616\n",
      "Epoch 28/100\n",
      "32/32 [==============================] - 0s 581us/step - loss: 2.9101\n",
      "Epoch 29/100\n",
      "32/32 [==============================] - 0s 613us/step - loss: 2.8599\n",
      "Epoch 30/100\n",
      "32/32 [==============================] - 0s 613us/step - loss: 2.8091\n",
      "Epoch 31/100\n",
      "32/32 [==============================] - 0s 581us/step - loss: 2.7586\n",
      "Epoch 32/100\n",
      "32/32 [==============================] - 0s 619us/step - loss: 2.7094\n",
      "Epoch 33/100\n",
      "32/32 [==============================] - 0s 613us/step - loss: 2.6603\n",
      "Epoch 34/100\n",
      "32/32 [==============================] - 0s 613us/step - loss: 2.6116\n",
      "Epoch 35/100\n",
      "32/32 [==============================] - 0s 613us/step - loss: 2.5665\n",
      "Epoch 36/100\n",
      "32/32 [==============================] - 0s 613us/step - loss: 2.5224\n",
      "Epoch 37/100\n",
      "32/32 [==============================] - 0s 613us/step - loss: 2.4809\n",
      "Epoch 38/100\n",
      "32/32 [==============================] - 0s 581us/step - loss: 2.4411\n",
      "Epoch 39/100\n",
      "32/32 [==============================] - 0s 613us/step - loss: 2.4052\n",
      "Epoch 40/100\n",
      "32/32 [==============================] - 0s 581us/step - loss: 2.3726\n",
      "Epoch 41/100\n",
      "32/32 [==============================] - 0s 613us/step - loss: 2.3434\n",
      "Epoch 42/100\n",
      "32/32 [==============================] - 0s 645us/step - loss: 2.3151\n",
      "Epoch 43/100\n",
      "32/32 [==============================] - 0s 581us/step - loss: 2.2907\n",
      "Epoch 44/100\n",
      "32/32 [==============================] - 0s 613us/step - loss: 2.2682\n",
      "Epoch 45/100\n",
      "32/32 [==============================] - 0s 581us/step - loss: 2.2460\n",
      "Epoch 46/100\n",
      "32/32 [==============================] - 0s 613us/step - loss: 2.2261\n",
      "Epoch 47/100\n",
      "32/32 [==============================] - 0s 613us/step - loss: 2.2070\n",
      "Epoch 48/100\n",
      "32/32 [==============================] - 0s 613us/step - loss: 2.1898\n",
      "Epoch 49/100\n",
      "32/32 [==============================] - 0s 548us/step - loss: 2.1722\n",
      "Epoch 50/100\n",
      "32/32 [==============================] - 0s 613us/step - loss: 2.1551\n",
      "Epoch 51/100\n",
      "32/32 [==============================] - 0s 581us/step - loss: 2.1382\n",
      "Epoch 52/100\n",
      "32/32 [==============================] - 0s 581us/step - loss: 2.1219\n",
      "Epoch 53/100\n",
      "32/32 [==============================] - 0s 581us/step - loss: 2.1058\n",
      "Epoch 54/100\n",
      "32/32 [==============================] - 0s 613us/step - loss: 2.0886\n",
      "Epoch 55/100\n",
      "32/32 [==============================] - 0s 710us/step - loss: 2.0719\n",
      "Epoch 56/100\n",
      "32/32 [==============================] - 0s 613us/step - loss: 2.0555\n",
      "Epoch 57/100\n",
      "32/32 [==============================] - 0s 774us/step - loss: 2.0387\n",
      "Epoch 58/100\n",
      "32/32 [==============================] - 0s 677us/step - loss: 2.0228\n",
      "Epoch 59/100\n",
      "32/32 [==============================] - 0s 645us/step - loss: 2.0053\n",
      "Epoch 60/100\n",
      "32/32 [==============================] - 0s 645us/step - loss: 1.9882\n",
      "Epoch 61/100\n",
      "32/32 [==============================] - 0s 645us/step - loss: 1.9714\n",
      "Epoch 62/100\n",
      "32/32 [==============================] - 0s 634us/step - loss: 1.9554\n",
      "Epoch 63/100\n",
      "32/32 [==============================] - 0s 613us/step - loss: 1.9393\n",
      "Epoch 64/100\n",
      "32/32 [==============================] - 0s 613us/step - loss: 1.9231\n",
      "Epoch 65/100\n",
      "32/32 [==============================] - 0s 613us/step - loss: 1.9062\n",
      "Epoch 66/100\n",
      "32/32 [==============================] - 0s 601us/step - loss: 1.8901\n",
      "Epoch 67/100\n",
      "32/32 [==============================] - 0s 645us/step - loss: 1.8745\n",
      "Epoch 68/100\n",
      "32/32 [==============================] - 0s 613us/step - loss: 1.8579\n",
      "Epoch 69/100\n",
      "32/32 [==============================] - 0s 645us/step - loss: 1.8429\n",
      "Epoch 70/100\n",
      "32/32 [==============================] - 0s 645us/step - loss: 1.8266\n",
      "Epoch 71/100\n",
      "32/32 [==============================] - 0s 592us/step - loss: 1.8109\n",
      "Epoch 72/100\n",
      "32/32 [==============================] - 0s 613us/step - loss: 1.7953\n",
      "Epoch 73/100\n",
      "32/32 [==============================] - 0s 645us/step - loss: 1.7810\n",
      "Epoch 74/100\n",
      "32/32 [==============================] - 0s 613us/step - loss: 1.7654\n",
      "Epoch 75/100\n",
      "32/32 [==============================] - 0s 581us/step - loss: 1.7501\n",
      "Epoch 76/100\n",
      "32/32 [==============================] - 0s 613us/step - loss: 1.7358\n",
      "Epoch 77/100\n",
      "32/32 [==============================] - 0s 613us/step - loss: 1.7207\n",
      "Epoch 78/100\n",
      "32/32 [==============================] - 0s 581us/step - loss: 1.7056\n",
      "Epoch 79/100\n",
      "32/32 [==============================] - 0s 613us/step - loss: 1.6913\n",
      "Epoch 80/100\n",
      "32/32 [==============================] - 0s 548us/step - loss: 1.6771\n",
      "Epoch 81/100\n",
      "32/32 [==============================] - 0s 613us/step - loss: 1.6633\n",
      "Epoch 82/100\n",
      "32/32 [==============================] - 0s 742us/step - loss: 1.6493\n",
      "Epoch 83/100\n",
      "32/32 [==============================] - 0s 742us/step - loss: 1.6349\n",
      "Epoch 84/100\n",
      "32/32 [==============================] - 0s 677us/step - loss: 1.6215\n",
      "Epoch 85/100\n",
      "32/32 [==============================] - 0s 663us/step - loss: 1.6083\n",
      "Epoch 86/100\n",
      "32/32 [==============================] - 0s 645us/step - loss: 1.5964\n",
      "Epoch 87/100\n",
      "32/32 [==============================] - 0s 806us/step - loss: 1.5838\n",
      "Epoch 88/100\n",
      "32/32 [==============================] - 0s 645us/step - loss: 1.5711\n",
      "Epoch 89/100\n",
      "32/32 [==============================] - 0s 645us/step - loss: 1.5586\n",
      "Epoch 90/100\n",
      "32/32 [==============================] - 0s 645us/step - loss: 1.5468\n",
      "Epoch 91/100\n",
      "32/32 [==============================] - 0s 645us/step - loss: 1.5349\n",
      "Epoch 92/100\n",
      "32/32 [==============================] - 0s 613us/step - loss: 1.5232\n",
      "Epoch 93/100\n",
      "32/32 [==============================] - 0s 581us/step - loss: 1.5128\n",
      "Epoch 94/100\n",
      "32/32 [==============================] - 0s 581us/step - loss: 1.5019\n",
      "Epoch 95/100\n",
      "32/32 [==============================] - 0s 581us/step - loss: 1.4915\n",
      "Epoch 96/100\n",
      "32/32 [==============================] - 0s 613us/step - loss: 1.4802\n",
      "Epoch 97/100\n",
      "32/32 [==============================] - 0s 581us/step - loss: 1.4692\n",
      "Epoch 98/100\n",
      "32/32 [==============================] - 0s 591us/step - loss: 1.4607\n",
      "Epoch 99/100\n",
      "32/32 [==============================] - 0s 596us/step - loss: 1.4498\n",
      "Epoch 100/100\n",
      "32/32 [==============================] - 0s 613us/step - loss: 1.4421\n"
     ]
    },
    {
     "data": {
      "text/plain": [
       "<keras.src.callbacks.History at 0x1238bce5d90>"
      ]
     },
     "execution_count": 37,
     "metadata": {},
     "output_type": "execute_result"
    }
   ],
   "source": [
    "model = tf.keras.models.Sequential(\n",
    "    [\n",
    "        tf.keras.layers.Input(shape=(x.shape[1],)),\n",
    "        SplitDenseLayer(50, 30, 20),\n",
    "        tf.keras.layers.Dense(y.shape[1]),\n",
    "    ]\n",
    ")\n",
    "\n",
    "model.set_weights\n",
    "\n",
    "# Compile the model with Adam optimizer and Mean Squared Error loss\n",
    "model.compile(optimizer=\"rmsprop\", loss=\"mse\", jit_compile=True)\n",
    "\n",
    "# Train the model for 10 epochs with a batch size of 32\n",
    "model.fit(x, y, epochs=100, batch_size=32)"
   ]
  },
  {
   "cell_type": "code",
   "execution_count": 38,
   "metadata": {},
   "outputs": [
    {
     "name": "stdout",
     "output_type": "stream",
     "text": [
      "32/32 [==============================] - 0s 871us/step\n"
     ]
    },
    {
     "data": {
      "text/plain": [
       "<matplotlib.collections.PathCollection at 0x1238d18a430>"
      ]
     },
     "execution_count": 38,
     "metadata": {},
     "output_type": "execute_result"
    },
    {
     "data": {
      "image/png": "[encoded data removed]",
      "text/plain": [
       "<Figure size 640x480 with 1 Axes>"
      ]
     },
     "metadata": {},
     "output_type": "display_data"
    }
   ],
   "source": [
    "plt.scatter(model.predict(x)[:, 0], y[:, 0])\n",
    "plt.scatter(f.fittedvalues, y[:, 0])"
   ]
  },
  {
   "cell_type": "code",
   "execution_count": 40,
   "metadata": {},
   "outputs": [
    {
     "data": {
      "text/plain": [
       "['_SCALAR_UPRANKING_ON',\n",
       " '_TF_MODULE_IGNORED_PROPERTIES',\n",
       " '__call__',\n",
       " '__class__',\n",
       " '__copy__',\n",
       " '__deepcopy__',\n",
       " '__delattr__',\n",
       " '__dict__',\n",
       " '__dir__',\n",
       " '__doc__',\n",
       " '__eq__',\n",
       " '__format__',\n",
       " '__ge__',\n",
       " '__getattribute__',\n",
       " '__getstate__',\n",
       " '__gt__',\n",
       " '__hash__',\n",
       " '__init__',\n",
       " '__init_subclass__',\n",
       " '__le__',\n",
       " '__lt__',\n",
       " '__module__',\n",
       " '__ne__',\n",
       " '__new__',\n",
       " '__reduce__',\n",
       " '__reduce_ex__',\n",
       " '__repr__',\n",
       " '__setattr__',\n",
       " '__setstate__',\n",
       " '__sizeof__',\n",
       " '__str__',\n",
       " '__subclasshook__',\n",
       " '__weakref__',\n",
       " '_activity_regularizer',\n",
       " '_add_trackable',\n",
       " '_add_trackable_child',\n",
       " '_add_variable_with_custom_getter',\n",
       " '_aggregate_exact_metrics',\n",
       " '_assert_compile_was_called',\n",
       " '_assert_weights_created',\n",
       " '_auto_get_config',\n",
       " '_auto_track_sub_layers',\n",
       " '_autocast',\n",
       " '_autographed_call',\n",
       " '_base_model_initialized',\n",
       " '_build_graph_network_for_inferred_shape',\n",
       " '_build_input_shape',\n",
       " '_call_spec',\n",
       " '_callable_losses',\n",
       " '_captured_weight_regularizer',\n",
       " '_cast_single_input',\n",
       " '_check_call_args',\n",
       " '_check_sample_weight_warning',\n",
       " '_checkpoint',\n",
       " '_checkpoint_dependencies',\n",
       " '_clear_losses',\n",
       " '_cluster_coordinator',\n",
       " '_compile_config',\n",
       " '_compile_was_called',\n",
       " '_compiled_trainable_state',\n",
       " '_compute_dtype',\n",
       " '_compute_dtype_object',\n",
       " '_compute_output_and_mask_jointly',\n",
       " '_compute_tensor_usage_count',\n",
       " '_configure_steps_per_execution',\n",
       " '_conform_to_reference_input',\n",
       " '_create_counter_variable',\n",
       " '_created_nodes',\n",
       " '_dedup_weights',\n",
       " '_deferred_dependencies',\n",
       " '_delete_tracking',\n",
       " '_deserialization_dependencies',\n",
       " '_deserialize_from_proto',\n",
       " '_disallow_exact_eval_with_add_metrics',\n",
       " '_distribute_reduction_method',\n",
       " '_distribution_strategy',\n",
       " '_dtype',\n",
       " '_dtype_policy',\n",
       " '_dynamic',\n",
       " '_eager_losses',\n",
       " '_enable_dict_to_input_mapping',\n",
       " '_enable_tune_steps_per_execution',\n",
       " '_expects_mask_arg',\n",
       " '_expects_training_arg',\n",
       " '_export_to_saved_model_graph',\n",
       " '_feed_input_names',\n",
       " '_feed_input_shapes',\n",
       " '_feed_inputs',\n",
       " '_flatten',\n",
       " '_flatten_layers',\n",
       " '_flatten_modules',\n",
       " '_flatten_to_reference_inputs',\n",
       " '_functional_construction_call',\n",
       " '_gather_children_attribute',\n",
       " '_gather_saveables_for_checkpoint',\n",
       " '_get_callback_model',\n",
       " '_get_cell_name',\n",
       " '_get_compile_args',\n",
       " '_get_existing_metric',\n",
       " '_get_input_masks',\n",
       " '_get_node_attribute_at_index',\n",
       " '_get_optimizer',\n",
       " '_get_save_spec',\n",
       " '_get_test_function_runner',\n",
       " '_get_trainable_state',\n",
       " '_get_unnested_name_scope',\n",
       " '_graph_initialized',\n",
       " '_graph_network_add_loss',\n",
       " '_graph_network_add_metric',\n",
       " '_handle_activity_regularization',\n",
       " '_handle_deferred_dependencies',\n",
       " '_handle_deferred_layer_dependencies',\n",
       " '_handle_weight_regularization',\n",
       " '_has_explicit_input_shape',\n",
       " '_in_multi_worker_mode',\n",
       " '_inbound_nodes',\n",
       " '_inbound_nodes_value',\n",
       " '_infer_exact_eval_shards',\n",
       " '_infer_output_signature',\n",
       " '_inferred_input_shape',\n",
       " '_init_batch_counters',\n",
       " '_init_call_fn_args',\n",
       " '_init_graph_network',\n",
       " '_init_set_name',\n",
       " '_initial_weights',\n",
       " '_input_coordinates',\n",
       " '_input_dtype',\n",
       " '_input_layers',\n",
       " '_input_spec',\n",
       " '_insert_layers',\n",
       " '_instrument_layer_creation',\n",
       " '_instrumented_keras_api',\n",
       " '_instrumented_keras_layer_class',\n",
       " '_instrumented_keras_model_class',\n",
       " '_is_compiled',\n",
       " '_is_graph_network',\n",
       " '_is_layer',\n",
       " '_is_layer_name_unique',\n",
       " '_is_model_for_instrumentation',\n",
       " '_jit_compile',\n",
       " '_keras_api_names',\n",
       " '_keras_api_names_v1',\n",
       " '_keras_tensor_symbolic_call',\n",
       " '_layer_call_argspecs',\n",
       " '_layer_checkpoint_dependencies',\n",
       " '_layout_map',\n",
       " '_lookup_dependency',\n",
       " '_losses',\n",
       " '_make_test_function_exact',\n",
       " '_maybe_build',\n",
       " '_maybe_cast_inputs',\n",
       " '_maybe_create_attribute',\n",
       " '_maybe_initialize_trackable',\n",
       " '_maybe_load_initial_counters_from_ckpt',\n",
       " '_metrics',\n",
       " '_metrics_lock',\n",
       " '_must_restore_from_config',\n",
       " '_name',\n",
       " '_name_based_attribute_restore',\n",
       " '_name_based_restores',\n",
       " '_name_scope',\n",
       " '_name_scope_on_declaration',\n",
       " '_nested_inputs',\n",
       " '_nested_outputs',\n",
       " '_network_nodes',\n",
       " '_no_dependency',\n",
       " '_nodes_by_depth',\n",
       " '_non_trainable_weights',\n",
       " '_obj_reference_counts',\n",
       " '_obj_reference_counts_dict',\n",
       " '_object_identifier',\n",
       " '_outbound_nodes',\n",
       " '_outbound_nodes_value',\n",
       " '_output_coordinates',\n",
       " '_output_layers',\n",
       " '_output_mask_cache',\n",
       " '_output_shape_cache',\n",
       " '_output_tensor_cache',\n",
       " '_predict_counter',\n",
       " '_preload_simple_restoration',\n",
       " '_preserve_input_structure_in_config',\n",
       " '_pss_evaluation_shards',\n",
       " '_reset_compile_cache',\n",
       " '_restore_from_tensors',\n",
       " '_run_eagerly',\n",
       " '_run_internal_graph',\n",
       " '_save_experimental',\n",
       " '_saved_model_arg_spec',\n",
       " '_saved_model_inputs_spec',\n",
       " '_self_name_based_restores',\n",
       " '_self_saveable_object_factories',\n",
       " '_self_setattr_tracking',\n",
       " '_self_tracked_trackables',\n",
       " '_self_unconditional_checkpoint_dependencies',\n",
       " '_self_unconditional_deferred_dependencies',\n",
       " '_self_unconditional_dependency_names',\n",
       " '_self_update_uid',\n",
       " '_serialize_to_proto',\n",
       " '_serialize_to_tensors',\n",
       " '_set_connectivity_metadata',\n",
       " '_set_dtype_policy',\n",
       " '_set_inputs',\n",
       " '_set_mask_keras_history_checked',\n",
       " '_set_mask_metadata',\n",
       " '_set_output_names',\n",
       " '_set_save_spec',\n",
       " '_set_trainable_state',\n",
       " '_set_training_mode',\n",
       " '_setattr_tracking',\n",
       " '_should_cast_single_input',\n",
       " '_should_compute_mask',\n",
       " '_should_eval',\n",
       " '_stateful',\n",
       " '_steps_per_execution',\n",
       " '_supports_masking',\n",
       " '_tensor_usage_count',\n",
       " '_test_counter',\n",
       " '_tf_api_names',\n",
       " '_tf_api_names_v1',\n",
       " '_thread_local',\n",
       " '_track_trackable',\n",
       " '_track_variable',\n",
       " '_track_variables',\n",
       " '_trackable_children',\n",
       " '_trackable_saved_model_saver',\n",
       " '_tracking_metadata',\n",
       " '_train_counter',\n",
       " '_trainable',\n",
       " '_trainable_weights',\n",
       " '_training_state',\n",
       " '_unconditional_checkpoint_dependencies',\n",
       " '_unconditional_dependency_names',\n",
       " '_undeduplicated_weights',\n",
       " '_update_trackables',\n",
       " '_update_uid',\n",
       " '_updated_config',\n",
       " '_updates',\n",
       " '_use_input_spec_as_call_signature',\n",
       " '_use_legacy_deferred_behavior',\n",
       " '_validate_and_get_metrics_result',\n",
       " '_validate_compile',\n",
       " '_validate_graph_inputs_and_outputs',\n",
       " '_validate_target_and_loss',\n",
       " 'activity_regularizer',\n",
       " 'add',\n",
       " 'add_loss',\n",
       " 'add_metric',\n",
       " 'add_update',\n",
       " 'add_variable',\n",
       " 'add_weight',\n",
       " 'build',\n",
       " 'build_from_config',\n",
       " 'built',\n",
       " 'call',\n",
       " 'compile',\n",
       " 'compile_from_config',\n",
       " 'compiled_loss',\n",
       " 'compiled_metrics',\n",
       " 'compute_dtype',\n",
       " 'compute_loss',\n",
       " 'compute_mask',\n",
       " 'compute_metrics',\n",
       " 'compute_output_shape',\n",
       " 'compute_output_signature',\n",
       " 'count_params',\n",
       " 'distribute_reduction_method',\n",
       " 'distribute_strategy',\n",
       " 'dtype',\n",
       " 'dtype_policy',\n",
       " 'dynamic',\n",
       " 'enable_tune_steps_per_execution',\n",
       " 'evaluate',\n",
       " 'evaluate_generator',\n",
       " 'export',\n",
       " 'finalize_state',\n",
       " 'fit',\n",
       " 'fit_generator',\n",
       " 'from_config',\n",
       " 'get_build_config',\n",
       " 'get_compile_config',\n",
       " 'get_config',\n",
       " 'get_input_at',\n",
       " 'get_input_mask_at',\n",
       " 'get_input_shape_at',\n",
       " 'get_layer',\n",
       " 'get_metrics_result',\n",
       " 'get_output_at',\n",
       " 'get_output_mask_at',\n",
       " 'get_output_shape_at',\n",
       " 'get_weight_paths',\n",
       " 'get_weights',\n",
       " 'history',\n",
       " 'inbound_nodes',\n",
       " 'input',\n",
       " 'input_mask',\n",
       " 'input_names',\n",
       " 'input_shape',\n",
       " 'input_spec',\n",
       " 'inputs',\n",
       " 'jit_compile',\n",
       " 'layers',\n",
       " 'load_own_variables',\n",
       " 'load_weights',\n",
       " 'loss',\n",
       " 'losses',\n",
       " 'make_predict_function',\n",
       " 'make_test_function',\n",
       " 'make_train_function',\n",
       " 'metrics',\n",
       " 'metrics_names',\n",
       " 'name',\n",
       " 'name_scope',\n",
       " 'non_trainable_variables',\n",
       " 'non_trainable_weights',\n",
       " 'optimizer',\n",
       " 'outbound_nodes',\n",
       " 'output',\n",
       " 'output_mask',\n",
       " 'output_names',\n",
       " 'output_shape',\n",
       " 'outputs',\n",
       " 'pop',\n",
       " 'predict',\n",
       " 'predict_function',\n",
       " 'predict_generator',\n",
       " 'predict_on_batch',\n",
       " 'predict_step',\n",
       " 'reset_metrics',\n",
       " 'reset_states',\n",
       " 'run_eagerly',\n",
       " 'save',\n",
       " 'save_own_variables',\n",
       " 'save_spec',\n",
       " 'save_weights',\n",
       " 'set_weights',\n",
       " 'state_updates',\n",
       " 'stateful',\n",
       " 'stop_training',\n",
       " 'submodules',\n",
       " 'summary',\n",
       " 'supports_masking',\n",
       " 'test_function',\n",
       " 'test_on_batch',\n",
       " 'test_step',\n",
       " 'to_json',\n",
       " 'to_yaml',\n",
       " 'train_function',\n",
       " 'train_on_batch',\n",
       " 'train_step',\n",
       " 'train_tf_function',\n",
       " 'trainable',\n",
       " 'trainable_variables',\n",
       " 'trainable_weights',\n",
       " 'updates',\n",
       " 'variable_dtype',\n",
       " 'variables',\n",
       " 'weights',\n",
       " 'with_name_scope']"
      ]
     },
     "execution_count": 40,
     "metadata": {},
     "output_type": "execute_result"
    }
   ],
   "source": [
    "dir(model)"
   ]
  },
  {
   "cell_type": "code",
   "execution_count": null,
   "metadata": {},
   "outputs": [],
   "source": [
    "plt.scatter(fit.predict(x), y)"
   ]
  }
 ],
 "metadata": {
  "kernelspec": {
   "display_name": "Python 3 (ipykernel)",
   "language": "python",
   "name": "python3"
  },
  "language_info": {
   "codemirror_mode": {
    "name": "ipython",
    "version": 3
   },
   "file_extension": ".py",
   "mimetype": "text/x-python",
   "name": "python",
   "nbconvert_exporter": "python",
   "pygments_lexer": "ipython3",
   "version": "3.9.13"
  }
 },
 "nbformat": 4,
 "nbformat_minor": 4
}
